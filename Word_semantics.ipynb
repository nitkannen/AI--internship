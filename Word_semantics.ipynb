{
 "cells": [
  {
   "cell_type": "code",
   "execution_count": 110,
   "metadata": {},
   "outputs": [],
   "source": [
    "import numpy as np\n",
    "import pandas as pd\n",
    "import scipy"
   ]
  },
  {
   "cell_type": "code",
   "execution_count": 111,
   "metadata": {},
   "outputs": [],
   "source": [
    "word2vec = {}\n",
    "with open('glove.6B.300d.txt',encoding =\"utf8\") as f:\n",
    "    for line in f:\n",
    "        values = line.split()\n",
    "        vec = np.asarray(values[1:],dtype = 'float32')\n",
    "        word = values[0]\n",
    "        word2vec[word] = vec"
   ]
  },
  {
   "cell_type": "code",
   "execution_count": 112,
   "metadata": {},
   "outputs": [],
   "source": [
    "def cosine_similarity_(vectora, vectorb):\n",
    "    \n",
    "    dot_product = np.dot(vectora, vectorb.reshape(-1,1))\n",
    "    \n",
    "    norm_a = np.linalg.norm(vectora)\n",
    "    norm_b = np.linalg.norm(vectorb)\n",
    "    \n",
    "    cos = dot_product / (normv * normu)\n",
    "    \n",
    "    return cos\n",
    "    "
   ]
  },
  {
   "cell_type": "code",
   "execution_count": 113,
   "metadata": {},
   "outputs": [],
   "source": [
    "def find_similar(parent_word, word_list):\n",
    "    \n",
    "    similarity_dict = {}\n",
    "    \n",
    "    parent_vec = word2vec[parent_word].reshape(1,-1)\n",
    "    \n",
    "    for word in word_list:\n",
    "        \n",
    "        word_vec = word2vec[word].reshape(1,-1)\n",
    "        similarity_dict[word] = cosine_similarity(word_vec, parent_vec)\n",
    "        \n",
    "    return similarity_dict\n",
    "    "
   ]
  },
  {
   "cell_type": "code",
   "execution_count": 114,
   "metadata": {},
   "outputs": [],
   "source": [
    "parent_word = \"architect\"\n",
    "word_list = [\"engineer\", \"designer\", \"prostitute\", \"artist\"]"
   ]
  },
  {
   "cell_type": "code",
   "execution_count": 115,
   "metadata": {},
   "outputs": [],
   "source": [
    "a = find_similar(parent_word, word_list)"
   ]
  },
  {
   "cell_type": "code",
   "execution_count": 116,
   "metadata": {},
   "outputs": [
    {
     "data": {
      "text/plain": [
       "{'engineer': array([[0.62248456]], dtype=float32),\n",
       " 'designer': array([[0.6480334]], dtype=float32),\n",
       " 'prostitute': array([[0.02105798]], dtype=float32),\n",
       " 'artist': array([[0.52957845]], dtype=float32)}"
      ]
     },
     "execution_count": 116,
     "metadata": {},
     "output_type": "execute_result"
    }
   ],
   "source": [
    "a"
   ]
  },
  {
   "cell_type": "code",
   "execution_count": null,
   "metadata": {},
   "outputs": [],
   "source": []
  }
 ],
 "metadata": {
  "kernelspec": {
   "display_name": "Python 3",
   "language": "python",
   "name": "python3"
  },
  "language_info": {
   "codemirror_mode": {
    "name": "ipython",
    "version": 3
   },
   "file_extension": ".py",
   "mimetype": "text/x-python",
   "name": "python",
   "nbconvert_exporter": "python",
   "pygments_lexer": "ipython3",
   "version": "3.7.4"
  }
 },
 "nbformat": 4,
 "nbformat_minor": 2
}
